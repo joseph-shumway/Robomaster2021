{
 "cells": [
  {
   "cell_type": "code",
   "execution_count": 1,
   "source": [
    "from __future__ import division, absolute_import, print_function\r\n",
    "import matplotlib\r\n",
    "import time; print(time.strftime(\"The last update of this file: %Y-%m-%d %H:%M:%S\", time.gmtime()))\r\n",
    "\r\n",
    "import os, sys, time, re, json\r\n",
    "import numpy as np\r\n",
    "import matplotlib.pyplot as plt"
   ],
   "outputs": [
    {
     "output_type": "stream",
     "name": "stdout",
     "text": [
      "The last update of this file: 2021-09-27 00:35:52\n"
     ]
    }
   ],
   "metadata": {}
  },
  {
   "cell_type": "code",
   "execution_count": 2,
   "source": [
    "%matplotlib inline"
   ],
   "outputs": [],
   "metadata": {}
  },
  {
   "cell_type": "code",
   "execution_count": 3,
   "source": [
    "\r\n",
    "imread = plt.imread\r\n",
    "def imread8(im_file):\r\n",
    "    ''' Read image as a 8-bit numpy array '''\r\n",
    "    im = np.asarray(Image.open(im_file))\r\n",
    "    return im\r\n",
    "\r\n",
    "def read_png(res):\r\n",
    "    import StringIO, PIL.Image\r\n",
    "    img = PIL.Image.open(StringIO.StringIO(res))\r\n",
    "    return np.asarray(img)\r\n",
    "\r\n",
    "def read_npy(res):\r\n",
    "    import StringIO\r\n",
    "    return np.load(StringIO.StringIO(res))"
   ],
   "outputs": [],
   "metadata": {}
  },
  {
   "cell_type": "code",
   "execution_count": 1,
   "source": [
    "from unrealcv import client\r\n",
    "client.connect()\r\n",
    "if not client.isconnected():\r\n",
    "    print('UnrealCV server is not running. Run the game downloaded from http://unrealcv.github.io first.')\r\n",
    "    sys.exit(-1)"
   ],
   "outputs": [
    {
     "output_type": "stream",
     "name": "stderr",
     "text": [
      "ERROR:__init__:63:Error: receive a malformat message, the message should start from a four bytes uint32 magic number\n",
      "ERROR:__init__:205:Can not connect to ('localhost', 9000)\n",
      "ERROR:__init__:206:Error 'NoneType' object has no attribute 'startswith'\n"
     ]
    },
    {
     "output_type": "stream",
     "name": "stdout",
     "text": [
      "UnrealCV server is not running. Run the game downloaded from http://unrealcv.github.io first.\n"
     ]
    },
    {
     "output_type": "error",
     "ename": "SystemExit",
     "evalue": "-1",
     "traceback": [
      "An exception has occurred, use %tb to see the full traceback.\n",
      "\u001b[1;31mSystemExit\u001b[0m\u001b[1;31m:\u001b[0m -1\n"
     ]
    },
    {
     "output_type": "stream",
     "name": "stderr",
     "text": [
      "C:\\Users\\Joseph\\AppData\\Local\\Programs\\Python\\Python39\\lib\\site-packages\\IPython\\core\\interactiveshell.py:3452: UserWarning: To exit: use 'exit', 'quit', or Ctrl-D.\n",
      "  warn(\"To exit: use 'exit', 'quit', or Ctrl-D.\", stacklevel=1)\n"
     ]
    }
   ],
   "metadata": {}
  },
  {
   "cell_type": "code",
   "execution_count": 5,
   "source": [
    "res = client.request('vget /unrealcv/status')\r\n",
    "# The image resolution and port is configured in the config file.\r\n",
    "print(res)"
   ],
   "outputs": [
    {
     "output_type": "stream",
     "name": "stdout",
     "text": [
      "Is Listening\n",
      "Client Connected\n",
      "9000\n",
      "Configuration\n",
      "Config file: C:/Program Files/Epic Games/UE_4.16/Engine/Binaries/Win64/unrealcv.ini\n",
      "Port: 9000\n",
      "Width: 640\n",
      "Height: 480\n",
      "FOV: 90.000000\n",
      "EnableInput: true\n",
      "EnableRightEye: false\n",
      "\n"
     ]
    }
   ],
   "metadata": {}
  }
 ],
 "metadata": {
  "orig_nbformat": 4,
  "language_info": {
   "name": "python",
   "version": "3.9.7",
   "mimetype": "text/x-python",
   "codemirror_mode": {
    "name": "ipython",
    "version": 3
   },
   "pygments_lexer": "ipython3",
   "nbconvert_exporter": "python",
   "file_extension": ".py"
  },
  "kernelspec": {
   "name": "python3",
   "display_name": "Python 3.9.7 64-bit"
  },
  "interpreter": {
   "hash": "58e44f17b68efb379cbe4d62d8eb29669d62251138374b19be04be7719564863"
  }
 },
 "nbformat": 4,
 "nbformat_minor": 2
}