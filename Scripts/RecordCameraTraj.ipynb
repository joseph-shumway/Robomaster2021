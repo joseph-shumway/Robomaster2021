{
 "cells": [
  {
   "cell_type": "code",
   "execution_count": 1,
   "source": [
    "import sys, atexit, argparse, json, time\r\n",
    "sys.path.append('..')\r\n",
    "from unrealcv import client\r\n",
    "from pynput import keyboard"
   ],
   "outputs": [],
   "metadata": {}
  },
  {
   "cell_type": "code",
   "execution_count": 2,
   "source": [
    "trajectory = []\r\n"
   ],
   "outputs": [],
   "metadata": {}
  },
  {
   "cell_type": "code",
   "execution_count": 3,
   "source": [
    "def _onkeypress(key):\r\n",
    "    try: k = key.char # single-char keys\r\n",
    "    except: k = key.name # other keys\r\n",
    "    #check for quit condition\r\n",
    "    if key == keyboard.Key.esc:\r\n",
    "        print(\"LOG INFO: Time to quit\")\r\n",
    "        return False\r\n",
    "    try:\r\n",
    "        if k == 'p': #On pressing 'p', capture position.\r\n",
    "            print(\"Capturing position!\")\r\n",
    "            pose = client.request('vget /camera/0/pose')\r\n",
    "            print(\"Position: {} captured!\".format(pose))\r\n",
    "            trajectory.append(pose);\r\n",
    "\r\n",
    "            \r\n",
    "            #You can do the rest.\r\n",
    "    except:\r\n",
    "        pass"
   ],
   "outputs": [],
   "metadata": {}
  },
  {
   "cell_type": "code",
   "execution_count": 4,
   "source": [
    "def message_handler(message):\r\n",
    "    if message == 'clicked':\r\n",
    "        rot = [float(v) for v in client.request('vget /camera/0/rotation').split(' ')]\r\n",
    "        loc = [float(v) for v in client.request('vget /camera/0/location').split(' ')]\r\n",
    "        trajectory.append(dict(rotation = rot, location = loc))\r\n",
    "\r\n",
    "def save_to_file(filename):\r\n",
    "    if len(trajectory) != 0:\r\n",
    "        with open(filename, 'w') as f:\r\n",
    "            json.dump(trajectory, f, indent = 4)"
   ],
   "outputs": [],
   "metadata": {}
  },
  {
   "cell_type": "code",
   "execution_count": 5,
   "source": [
    "# if __name__ == '__main__':\r\n",
    "#     parser = argparse.ArgumentParser()\r\n",
    "#     parser.add_argument('--filename', default='camera-trajectory.json')\r\n",
    "#     args, unknown = parser.parse_known_args()\r\n",
    "\r\n",
    "#     atexit.register(save_to_file, args.filename)\r\n",
    "#     client.connect()\r\n",
    "#     # client.message_handler = message_handler\r\n",
    "#     if not client.isconnected():\r\n",
    "#         print ('Can not connect to the game, please run the game downloaded from http://unrealcv.github.io first')\r\n",
    "#     else:\r\n",
    "#         # time.sleep(60 * 60 * 24)\r\n",
    "#         print(\"Connected\")"
   ],
   "outputs": [],
   "metadata": {}
  },
  {
   "cell_type": "markdown",
   "source": [
    "Test 2"
   ],
   "metadata": {}
  },
  {
   "cell_type": "code",
   "execution_count": 6,
   "source": [
    "client.connect()"
   ],
   "outputs": [
    {
     "output_type": "stream",
     "name": "stderr",
     "text": [
      "INFO:__init__:192:Got connection confirm: b'connected to Robomaster2021'\n"
     ]
    },
    {
     "output_type": "execute_result",
     "data": {
      "text/plain": [
       "True"
      ]
     },
     "metadata": {},
     "execution_count": 6
    }
   ],
   "metadata": {}
  },
  {
   "cell_type": "code",
   "execution_count": 8,
   "source": [
    "def main():\r\n",
    "    keyboard_listener = keyboard.Listener(on_press=_onkeypress)\r\n",
    "    keyboard_listener.start()\r\n",
    "    keyboard_listener.join()\r\n",
    "    print(\"LOG INFO: Quit command completed\")\r\n",
    "\r\n",
    "if __name__ == \"__main__\":\r\n",
    "    save_to_file(\"Trajectory.json\")\r\n",
    "    sys.exit(main())"
   ],
   "outputs": [
    {
     "output_type": "stream",
     "name": "stdout",
     "text": [
      "Capturing position!\n",
      "Position: -23.132 1.892 109.578 5.959 355.325 0.000 captured!\n",
      "Capturing position!\n",
      "Position: -315.734 176.164 77.654 5.959 355.325 0.000 captured!\n",
      "Capturing position!\n",
      "Position: -315.734 176.164 247.669 5.959 355.325 0.000 captured!\n",
      "Capturing position!\n",
      "Position: -297.285 17.222 392.716 5.959 355.325 0.000 captured!\n",
      "Capturing position!\n",
      "Position: -211.229 -117.146 420.008 5.959 355.325 0.000 captured!\n",
      "Capturing position!\n",
      "Position: -72.612 -60.262 433.945 5.959 355.325 0.000 captured!\n",
      "Capturing position!\n",
      "Position: 48.863 135.601 444.917 5.959 355.325 0.000 captured!\n",
      "Capturing position!\n",
      "Position: -40.961 349.749 426.750 5.959 355.325 0.000 captured!\n",
      "Capturing position!\n",
      "Position: -236.481 394.610 264.974 5.959 355.325 0.000 captured!\n",
      "Capturing position!\n",
      "Position: -361.159 407.190 112.534 5.959 355.325 0.000 captured!\n",
      "Capturing position!\n",
      "Position: -362.444 407.314 110.726 5.959 355.325 0.000 captured!\n",
      "LOG INFO: Time to quit\n",
      "LOG INFO: Quit command completed\n"
     ]
    },
    {
     "output_type": "error",
     "ename": "SystemExit",
     "evalue": "",
     "traceback": [
      "An exception has occurred, use %tb to see the full traceback.\n",
      "\u001b[1;31mSystemExit\u001b[0m\n"
     ]
    }
   ],
   "metadata": {}
  }
 ],
 "metadata": {
  "orig_nbformat": 4,
  "language_info": {
   "name": "python",
   "version": "3.9.7",
   "mimetype": "text/x-python",
   "codemirror_mode": {
    "name": "ipython",
    "version": 3
   },
   "pygments_lexer": "ipython3",
   "nbconvert_exporter": "python",
   "file_extension": ".py"
  },
  "kernelspec": {
   "name": "python3",
   "display_name": "Python 3.9.7 64-bit"
  },
  "interpreter": {
   "hash": "58e44f17b68efb379cbe4d62d8eb29669d62251138374b19be04be7719564863"
  }
 },
 "nbformat": 4,
 "nbformat_minor": 2
}